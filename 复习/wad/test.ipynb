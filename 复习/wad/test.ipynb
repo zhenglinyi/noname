{
 "cells": [
  {
   "cell_type": "code",
   "execution_count": null,
   "metadata": {},
   "outputs": [],
   "source": [
    "from keras.models import Model\n",
    "from keras import layers\n",
    "from keras import Input\n",
    "import keras\n",
    "import numpy as np\n",
    "\n",
    "dim=978\n",
    "\n",
    "#训练数据\n",
    "train_data=np.load(r'after_merge/A549/train_data.npy')\n",
    "train_target=np.load(r'after_merge/A549/train_target.npy')"
   ]
  },
  {
   "cell_type": "code",
   "execution_count": null,
   "metadata": {},
   "outputs": [],
   "source": []
  },
  {
   "cell_type": "code",
   "execution_count": null,
   "metadata": {},
   "outputs": [],
   "source": [
    "input1=train_data.reshape(train_data.shape[0],train_data.shape[1]*train_data.shape[2])\n",
    "input2=train_data\n",
    "output=train_target"
   ]
  },
  {
   "cell_type": "code",
   "execution_count": null,
   "metadata": {},
   "outputs": [],
   "source": [
    "wide_input=Input(shape=(input1.shape[1],),name='wide')\n",
    "wide_output=layers.Dense(1)(wide_input)\n",
    "\n",
    "deep_input=Input(shape=(input2.shape[1],input2.shape[2],),name='deep')\n",
    "deep_hide=layers.LSTM(400，return_sequences=True)(deep_input)\n",
    "deep_hide=layers.LSTM(400)(deep_hide)\n",
    "deep_output=layers.Dense(1)(deep_hide)\n",
    "\n",
    "concatenated = layers.concatenate([wide_output,deep_output],axis = -1)\n",
    "\n",
    "final_output=layers.Dense(1,activation = 'sigmoid')(concatenated)\n",
    "\n",
    "model = Model([wide_input,deep_input],final_output)\n",
    "#rmsprop\n",
    "model.compile(optimizer = 'adam',loss = 'binary_crossentropy',metrics = ['acc'])\n",
    "\n",
    "#model.summary()\n",
    "\n",
    "model.fit([input1,input2],output,epochs=20,batch_size=64)"
   ]
  },
  {
   "cell_type": "code",
   "execution_count": null,
   "metadata": {},
   "outputs": [],
   "source": [
    "test_data=np.load(r'after_merge/A549/test_data.npy')\n",
    "test_target=np.load(r'after_merge/A549/test_target.npy')\n",
    "test_input1=test_data.reshape(test_data.shape[0],test_data.shape[1]*test_data.shape[2])\n",
    "test_input2=test_data"
   ]
  },
  {
   "cell_type": "code",
   "execution_count": null,
   "metadata": {},
   "outputs": [],
   "source": [
    "model.evaluate([test_input1,test_input2], test_target,verbose=1,batch_size=1)"
   ]
  },
  {
   "cell_type": "code",
   "execution_count": null,
   "metadata": {},
   "outputs": [],
   "source": [
    "pred=model.predict([test_input1,test_input2])\n",
    "for pred_i in pred:\n",
    "    pred_i[pred_i >=0.5] = 1\n",
    "    pred_i[pred_i < 0.5] = 0\n",
    "from sklearn.metrics import accuracy_score ,f1_score\n",
    "accuracy_score(test_target, pred.flatten(),normalize =0)"
   ]
  }
 ],
 "metadata": {
  "kernelspec": {
   "display_name": "Python 3",
   "language": "python",
   "name": "python3"
  },
  "language_info": {
   "codemirror_mode": {
    "name": "ipython",
    "version": 3
   },
   "file_extension": ".py",
   "mimetype": "text/x-python",
   "name": "python",
   "nbconvert_exporter": "python",
   "pygments_lexer": "ipython3",
   "version": "3.7.1"
  }
 },
 "nbformat": 4,
 "nbformat_minor": 2
}
