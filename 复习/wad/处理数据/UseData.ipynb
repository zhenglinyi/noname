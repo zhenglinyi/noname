{
 "cells": [
  {
   "cell_type": "code",
   "execution_count": null,
   "metadata": {},
   "outputs": [],
   "source": [
    "import numpy as np\n",
    "import random\n",
    "\n",
    "pos_data=np.load(r'after_merge/A375/pos_data.npy')\n",
    "neg_data=np.load(r'after_merge/A375/neg_data.npy')\n",
    "\n",
    "random.shuffle(pos_data)\n",
    "random.shuffle(neg_data)\n",
    "\n",
    "pos_len=len(pos_data)\n",
    "neg_len=len(neg_data)\n",
    "\n",
    "use_data=[]\n",
    "\n",
    "for d in pos_data:\n",
    "    use_data.append((d,1))\n",
    "\n",
    "#正样本负样本1:2\n",
    "for i in range(2*pos_len):\n",
    "    use_data.append((neg_data[i],0))\n",
    "   "
   ]
  },
  {
   "cell_type": "code",
   "execution_count": null,
   "metadata": {},
   "outputs": [],
   "source": [
    "random.shuffle(use_data)"
   ]
  },
  {
   "cell_type": "code",
   "execution_count": null,
   "metadata": {},
   "outputs": [],
   "source": [
    "from sklearn.model_selection import train_test_split\n",
    "x,y=zip(*use_data)\n",
    "train_data,test_data,train_target,test_target=train_test_split(x, y, random_state=1234)"
   ]
  },
  {
   "cell_type": "code",
   "execution_count": null,
   "metadata": {},
   "outputs": [],
   "source": [
    "np.save(r'after_merge/A375/train_data.npy',train_data)\n",
    "np.save(r'after_merge/A375/test_data.npy',test_data)\n",
    "np.save(r'after_merge/A375/train_target.npy',train_target)\n",
    "np.save(r'after_merge/A375/test_target.npy',test_target)"
   ]
  }
 ],
 "metadata": {
  "kernelspec": {
   "display_name": "Python 3",
   "language": "python",
   "name": "python3"
  },
  "language_info": {
   "codemirror_mode": {
    "name": "ipython",
    "version": 3
   },
   "file_extension": ".py",
   "mimetype": "text/x-python",
   "name": "python",
   "nbconvert_exporter": "python",
   "pygments_lexer": "ipython3",
   "version": "3.7.1"
  }
 },
 "nbformat": 4,
 "nbformat_minor": 2
}
