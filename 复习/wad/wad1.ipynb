{
 "cells": [
  {
   "cell_type": "code",
   "execution_count": 1,
   "metadata": {},
   "outputs": [
    {
     "name": "stderr",
     "output_type": "stream",
     "text": [
      "Using TensorFlow backend.\n"
     ]
    }
   ],
   "source": [
    "from keras.models import Model\n",
    "from keras import layers\n",
    "from keras import Input\n",
    "import keras\n",
    "import numpy as np\n",
    "\n",
    "weishu=978"
   ]
  },
  {
   "cell_type": "code",
   "execution_count": 3,
   "metadata": {},
   "outputs": [],
   "source": [
    "yaowu=np.random.randint(1,100,size=(1000,weishu))\n",
    "babiao=np.random.randint(1,100,size=(1000,weishu))\n",
    "input1=np.concatenate((yaowu, babiao),axis=1)\n",
    "input2=np.stack((yaowu, babiao), axis=1)\n",
    "output=np.random.randint(0,2,size=(1000))"
   ]
  },
  {
   "cell_type": "code",
   "execution_count": 6,
   "metadata": {},
   "outputs": [
    {
     "name": "stdout",
     "output_type": "stream",
     "text": [
      "(1000, 978) (1000, 978) (1000, 1956) (1000, 2, 978) (1000,)\n"
     ]
    }
   ],
   "source": [
    "print(yaowu.shape,babiao.shape,input1.shape,input2.shape,output.shape)"
   ]
  },
  {
   "cell_type": "code",
   "execution_count": 9,
   "metadata": {},
   "outputs": [
    {
     "name": "stdout",
     "output_type": "stream",
     "text": [
      "[ 3 87 42 73 10 11 42 42 14 80] [40 92 96 93 37 32 31 48 65 14] [ 3 87 42 73 10 11 42 42 14 80] [40 92 96 93 37 32 31 48 65 14] [[ 3 87 42 ... 43 29 51]\n",
      " [40 92 96 ... 65 95 26]]\n"
     ]
    }
   ],
   "source": [
    "print(yaowu[0][:10],babiao[0][:10],input1[0][:10],input1[0][978:988],input2[0][:10])"
   ]
  },
  {
   "cell_type": "code",
   "execution_count": 10,
   "metadata": {},
   "outputs": [
    {
     "name": "stdout",
     "output_type": "stream",
     "text": [
      "WARNING:tensorflow:From E:\\ProgramData\\Anaconda3\\lib\\site-packages\\tensorflow\\python\\framework\\op_def_library.py:263: colocate_with (from tensorflow.python.framework.ops) is deprecated and will be removed in a future version.\n",
      "Instructions for updating:\n",
      "Colocations handled automatically by placer.\n",
      "WARNING:tensorflow:From E:\\ProgramData\\Anaconda3\\lib\\site-packages\\keras\\backend\\tensorflow_backend.py:1242: calling reduce_sum_v1 (from tensorflow.python.ops.math_ops) with keep_dims is deprecated and will be removed in a future version.\n",
      "Instructions for updating:\n",
      "keep_dims is deprecated, use keepdims instead\n"
     ]
    }
   ],
   "source": [
    "wide_input=Input(shape=(input1.shape[1],),name='wide')\n",
    "wide_output=layers.Dense(1)(wide_input)\n",
    "\n",
    "deep_input=Input(shape=(input2.shape[1],input2.shape[2],),name='deep')\n",
    "deep_hide=layers.LSTM(400)(deep_input)\n",
    "deep_output=layers.Dense(1)(deep_hide)\n",
    "\n",
    "concatenated = layers.concatenate([wide_output,deep_output],axis = -1)\n",
    "\n",
    "final_output=layers.Dense(1,activation = 'sigmoid')(concatenated)"
   ]
  },
  {
   "cell_type": "code",
   "execution_count": 11,
   "metadata": {},
   "outputs": [
    {
     "name": "stdout",
     "output_type": "stream",
     "text": [
      "WARNING:tensorflow:From E:\\ProgramData\\Anaconda3\\lib\\site-packages\\tensorflow\\python\\ops\\math_ops.py:3066: to_int32 (from tensorflow.python.ops.math_ops) is deprecated and will be removed in a future version.\n",
      "Instructions for updating:\n",
      "Use tf.cast instead.\n",
      "Epoch 1/10\n",
      "1000/1000 [==============================] - 3s 3ms/step - loss: 7.6742 - acc: 0.5190\n",
      "Epoch 2/10\n",
      "1000/1000 [==============================] - 0s 258us/step - loss: 7.7528 - acc: 0.5190\n",
      "Epoch 3/10\n",
      "1000/1000 [==============================] - 0s 266us/step - loss: 7.7528 - acc: 0.5190\n",
      "Epoch 4/10\n",
      "1000/1000 [==============================] - 0s 270us/step - loss: 7.7528 - acc: 0.5190\n",
      "Epoch 5/10\n",
      "1000/1000 [==============================] - 0s 284us/step - loss: 7.7528 - acc: 0.5190\n",
      "Epoch 6/10\n",
      "1000/1000 [==============================] - 0s 294us/step - loss: 7.7528 - acc: 0.5190\n",
      "Epoch 7/10\n",
      "1000/1000 [==============================] - 0s 267us/step - loss: 7.7528 - acc: 0.5190\n",
      "Epoch 8/10\n",
      "1000/1000 [==============================] - 0s 281us/step - loss: 7.7528 - acc: 0.5190\n",
      "Epoch 9/10\n",
      "1000/1000 [==============================] - 0s 273us/step - loss: 7.7528 - acc: 0.5190\n",
      "Epoch 10/10\n",
      "1000/1000 [==============================] - 0s 271us/step - loss: 7.7528 - acc: 0.5190\n"
     ]
    },
    {
     "data": {
      "text/plain": [
       "<keras.callbacks.History at 0x26956730a58>"
      ]
     },
     "execution_count": 11,
     "metadata": {},
     "output_type": "execute_result"
    }
   ],
   "source": [
    "model = Model([wide_input,deep_input],final_output)\n",
    "\n",
    "model.compile(optimizer = 'rmsprop',loss = 'binary_crossentropy',metrics = ['acc'])\n",
    "\n",
    "model.fit([input1,input2],output,epochs = 10,batch_size = 128)"
   ]
  },
  {
   "cell_type": "code",
   "execution_count": 14,
   "metadata": {},
   "outputs": [
    {
     "name": "stdout",
     "output_type": "stream",
     "text": [
      "__________________________________________________________________________________________________\n",
      "Layer (type)                    Output Shape         Param #     Connected to                     \n",
      "==================================================================================================\n",
      "deep (InputLayer)               (None, 2, 978)       0                                            \n",
      "__________________________________________________________________________________________________\n",
      "wide (InputLayer)               (None, 1956)         0                                            \n",
      "__________________________________________________________________________________________________\n",
      "lstm_1 (LSTM)                   (None, 400)          2206400     deep[0][0]                       \n",
      "__________________________________________________________________________________________________\n",
      "dense_1 (Dense)                 (None, 1)            1957        wide[0][0]                       \n",
      "__________________________________________________________________________________________________\n",
      "dense_2 (Dense)                 (None, 1)            401         lstm_1[0][0]                     \n",
      "__________________________________________________________________________________________________\n",
      "concatenate_1 (Concatenate)     (None, 2)            0           dense_1[0][0]                    \n",
      "                                                                 dense_2[0][0]                    \n",
      "__________________________________________________________________________________________________\n",
      "dense_3 (Dense)                 (None, 1)            3           concatenate_1[0][0]              \n",
      "==================================================================================================\n",
      "Total params: 2,208,761\n",
      "Trainable params: 2,208,761\n",
      "Non-trainable params: 0\n",
      "__________________________________________________________________________________________________\n"
     ]
    }
   ],
   "source": [
    "model.summary()"
   ]
  },
  {
   "cell_type": "code",
   "execution_count": 15,
   "metadata": {},
   "outputs": [],
   "source": [
    "from keras.utils import plot_model\n",
    "plot_model(model, show_shapes=True, to_file='model.png')"
   ]
  }
 ],
 "metadata": {
  "kernelspec": {
   "display_name": "Python 3",
   "language": "python",
   "name": "python3"
  },
  "language_info": {
   "codemirror_mode": {
    "name": "ipython",
    "version": 3
   },
   "file_extension": ".py",
   "mimetype": "text/x-python",
   "name": "python",
   "nbconvert_exporter": "python",
   "pygments_lexer": "ipython3",
   "version": "3.7.1"
  }
 },
 "nbformat": 4,
 "nbformat_minor": 2
}
